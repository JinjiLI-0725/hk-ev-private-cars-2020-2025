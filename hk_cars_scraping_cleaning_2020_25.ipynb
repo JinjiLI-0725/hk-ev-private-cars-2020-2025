{
 "cells": [
  {
   "cell_type": "code",
   "execution_count": 1,
   "id": "673b5287-8bc8-473c-86be-2b63430df1e5",
   "metadata": {},
   "outputs": [],
   "source": [
    "import time \n",
    "import math\n",
    "import requests\n",
    "import pandas as pd\n",
    "import matplotlib.pyplot as plt"
   ]
  },
  {
   "cell_type": "code",
   "execution_count": 2,
   "id": "27559239-ee35-42f7-b78d-84b6621a786d",
   "metadata": {},
   "outputs": [],
   "source": [
    "start_year = 2020\n",
    "end_year = 2025\n",
    "save_each_month = False\n",
    "out_all_csv = \"website_hk_private_cars_by_month.csv\"\n",
    "data_source = \"https://webb-site.com/dbpub/veFR.asp\"\n",
    "\n",
    "# https://webb-site.com/dbpub/veFR.asp?y=2025&m=1&b=1&vc=1&sort=f1dn\n",
    "params_template = {\"b\":\"1\", \"vc\":\"1\", \"sort\":\"f1dn\"}"
   ]
  },
  {
   "cell_type": "code",
   "execution_count": 3,
   "id": "8c8ead56-b111-441c-bd36-8eac83ee5b90",
   "metadata": {},
   "outputs": [],
   "source": [
    "# Standardize column names.\n",
    "def normalize_cols(df):\n",
    "    df = df.copy()\n",
    "    df.columns = (df.columns\n",
    "                 .str.strip()\n",
    "                  .str.replace(r\"\\s+\", \" \", regex=True)\n",
    "                  .str.replace(\"%\", \"pct\")\n",
    "                  .str.title()\n",
    "                 )\n",
    "    rename_map = {\n",
    "        \"Make\": \"Brand\",\n",
    "        \"Brand Name\": \"Brand\",\n",
    "        \"Brandname\": \"Brand\",\n",
    "        \"Petrol\": \"Petrol\",\n",
    "        \"Gasoline\": \"Petrol\",\n",
    "        \"Electric\": \"Electric\",\n",
    "        \"Ev\": \"Electric\",\n",
    "        \"Total\": \"Total\",\n",
    "        \"Grand Total\": \"Total\",\n",
    "        \"Overall\": \"Total\",\n",
    "        \"Hybrid\": \"Hybrid\",\n",
    "        \"Diesel\": \"Diesel\",\n",
    "        \"Lpg\": \"LPG\",\n",
    "        \"Others\": \"Others\"\n",
    "    }\n",
    "    \n",
    "    for k, v in rename_map.items():\n",
    "         if k in df.columns:\n",
    "             df = df.rename(columns={k:v})\n",
    "    return df"
   ]
  },
  {
   "cell_type": "code",
   "execution_count": 4,
   "id": "ee5864cf-8394-4ea1-8ca4-c302bd1f6b77",
   "metadata": {},
   "outputs": [],
   "source": [
    "# Cleaning data\n",
    "def coerce_numeric(df, cols):\n",
    "    for c in cols:\n",
    "        if c in df.columns:\n",
    "            df[c] = pd.to_numeric(df[c], errors=\"coerce\")\n",
    "\n",
    "    return df"
   ]
  },
  {
   "cell_type": "code",
   "execution_count": 5,
   "id": "00ac2e5d-fc7f-4d0f-8ef8-23e0630aa8a8",
   "metadata": {},
   "outputs": [],
   "source": [
    "# Ensure the dataFrame has an \"Others\" column.\n",
    "# If not , then compute it as \"Total\" -  sum of [\"Petrol\", \"Electric\", \"Hybrid\", \"Diesel\", \"LPG\"]\n",
    "def compute_others(df):\n",
    "    numeric_cols = [c for c in \n",
    "                    [\"Petrol\", \"Electric\", \"Hybrid\", \"Diesel\", \"LPG\", \"Total\"] if c in df.columns]\n",
    "    df = coerce_numeric(df, numeric_cols)\n",
    "    if \"Others\" not in df.columns:\n",
    "        have = [c for c in [\"Petrol\", \"Electric\", \"Hybrid\", \"Diesel\", \"LPG\"] if c in df.columns]\n",
    "        if \"Total\" in df.columns and have:\n",
    "            df[\"Others\"] = df[\"Total\"] - df[have].sum(axis=1,skipna=True)\n",
    "    return df  "
   ]
  },
  {
   "cell_type": "code",
   "execution_count": 6,
   "id": "3b94ce54-88aa-4f11-ba7b-f5f6769c3453",
   "metadata": {},
   "outputs": [],
   "source": [
    "from io import BytesIO\n",
    "import traceback"
   ]
  },
  {
   "cell_type": "code",
   "execution_count": 7,
   "id": "c9bf17b0-372b-4fe6-a85f-fcaa3eb1d6e0",
   "metadata": {},
   "outputs": [],
   "source": [
    "def fetch_month(y, m, session, max_retries=3, pause=1.0):\n",
    "    params = params_template | {\"y\":str(y), \"m\":str(m)}\n",
    "    url = data_source\n",
    "    for attempt in range (1,  max_retries+1):\n",
    "        try:\n",
    "            resp = session.get(url, params = params, timeout=20)\n",
    "            if resp.status_code != 200:\n",
    "                return None\n",
    "            tables = pd.read_html(BytesIO(resp.content))\n",
    "            if not tables :\n",
    "                return None\n",
    "            df = tables[0]\n",
    "            if df.shape[1] <3 or df.shape[0] == 0:\n",
    "                return None\n",
    "            df = normalize_cols(df)\n",
    "            if \"Brand\" in df.columns:\n",
    "                df = df[df[\"Brand\"].notna()].copy()\n",
    "                # # Remove summary and footer rows, such as \"Total\", \"All brands\", \"Fuel share %\"\n",
    "                pattern = r\"(?i)^\\s*(total|all\\s*brands?|fuel\\s*share\\s*%)\\s*$\"\n",
    "                mask_total = df[\"Brand\"].astype(str).str.fullmatch(pattern)\n",
    "                df = df[~mask_total].copy()\n",
    "            else:\n",
    "                return None\n",
    "            # compute \"Others\" if the DataFrame doens't have it\n",
    "            df = compute_others(df)\n",
    "            # keep core columns that we foucus on \n",
    "            keep_cols = [c for c in\n",
    "                         [\"Brand\",\"Petrol\", \"Electric\", \"Hybrid\", \"Diesel\", \"LPG\", \"Others\", \"Total\"]\n",
    "                         if c in df.columns]\n",
    "            df = df[keep_cols].copy()   \n",
    "\n",
    "            df = coerce_numeric(df, [c for c in keep_cols if c != \"Brand\"])\n",
    "            df[\"Year\"] = y\n",
    "            df[\"Month\"] = m\n",
    "            return df\n",
    "        except Exception as e:\n",
    "            if attempt == max_retries:\n",
    "                print(f\"[{y}-{m:02d}] ERROR {type(e).__name__}: {e}\")\n",
    "                print(traceback.format_exc())\n",
    "                return None\n",
    "            time.sleep(pause * attempt) \n",
    "    return None"
   ]
  },
  {
   "cell_type": "code",
   "execution_count": 8,
   "id": "ecf39b6e-07d6-457f-a503-c20e2c6d13c7",
   "metadata": {},
   "outputs": [
    {
     "name": "stdout",
     "output_type": "stream",
     "text": [
      "test: (40, 7)\n",
      "     Brand  Petrol  Electric  Others  Total  Year  Month\n",
      "0    TESLA     0.0      45.0     0.0   45.0  2020      1\n",
      "1   NISSAN   101.0      25.0     0.0  126.0  2020      1\n",
      "2     AUDI    83.0      22.0     0.0  105.0  2020      1\n",
      "3  HYUNDAI    18.0       9.0     0.0   27.0  2020      1\n",
      "4      KIA    36.0       7.0     0.0   43.0  2020      1\n"
     ]
    }
   ],
   "source": [
    "# single month test \n",
    "with requests.Session() as sess:\n",
    "    sess.headers.update({\"User-Agent\":\"Mozilla/5.0 (Windows NT 10.0; Win64; x64)\"})\n",
    "    dfm = fetch_month(2020, 1, sess)\n",
    "    print(\"test:\", None if dfm is None else dfm.shape)\n",
    "    if dfm is not None:\n",
    "        print(dfm.head())"
   ]
  },
  {
   "cell_type": "code",
   "execution_count": 9,
   "id": "b669d293-c186-42f0-b6dd-10b1325ccfaa",
   "metadata": {},
   "outputs": [],
   "source": [
    "LATEST_Y, LATEST_M = 2025, 6"
   ]
  },
  {
   "cell_type": "code",
   "execution_count": 10,
   "id": "d9b53c87-f7c7-47b1-a006-fbdda9cb2628",
   "metadata": {},
   "outputs": [
    {
     "name": "stdout",
     "output_type": "stream",
     "text": [
      "[2020-01] rows: 40\n",
      "[2020-02] rows: 34\n",
      "[2020-03] rows: 37\n",
      "[2020-04] rows: 37\n",
      "[2020-05] rows: 42\n",
      "[2020-06] rows: 41\n",
      "[2020-07] rows: 42\n",
      "[2020-08] rows: 40\n",
      "[2020-09] rows: 40\n",
      "[2020-10] rows: 37\n",
      "[2020-11] rows: 41\n",
      "[2020-12] rows: 39\n",
      "[2021-01] rows: 40\n",
      "[2021-02] rows: 39\n",
      "[2021-03] rows: 38\n",
      "[2021-04] rows: 33\n",
      "[2021-05] rows: 37\n",
      "[2021-06] rows: 40\n",
      "[2021-07] rows: 34\n",
      "[2021-08] rows: 32\n",
      "[2021-09] rows: 35\n",
      "[2021-10] rows: 37\n",
      "[2021-11] rows: 37\n",
      "[2021-12] rows: 37\n",
      "[2022-01] rows: 39\n",
      "[2022-02] rows: 35\n",
      "[2022-03] rows: 37\n",
      "[2022-04] rows: 36\n",
      "[2022-05] rows: 36\n",
      "[2022-06] rows: 41\n",
      "[2022-07] rows: 38\n",
      "[2022-08] rows: 35\n",
      "[2022-09] rows: 35\n",
      "[2022-10] rows: 36\n",
      "[2022-11] rows: 36\n",
      "[2022-12] rows: 36\n",
      "[2023-01] rows: 31\n",
      "[2023-02] rows: 36\n",
      "[2023-03] rows: 37\n",
      "[2023-04] rows: 37\n",
      "[2023-05] rows: 34\n",
      "[2023-06] rows: 42\n",
      "[2023-07] rows: 36\n",
      "[2023-08] rows: 37\n",
      "[2023-09] rows: 41\n",
      "[2023-10] rows: 37\n",
      "[2023-11] rows: 39\n",
      "[2023-12] rows: 37\n",
      "[2024-01] rows: 39\n",
      "[2024-02] rows: 38\n",
      "[2024-03] rows: 39\n",
      "[2024-04] rows: 41\n",
      "[2024-05] rows: 38\n",
      "[2024-06] rows: 39\n",
      "[2024-07] rows: 42\n",
      "[2024-08] rows: 39\n",
      "[2024-09] rows: 39\n",
      "[2024-10] rows: 47\n",
      "[2024-11] rows: 43\n",
      "[2024-12] rows: 48\n",
      "[2025-01] rows: 54\n",
      "[2025-02] rows: 46\n",
      "[2025-03] rows: 48\n",
      "[2025-04] rows: 51\n",
      "[2025-05] rows: 46\n",
      "[2025-06] rows: 52\n"
     ]
    }
   ],
   "source": [
    "# collecting all months\n",
    "all_frames = []\n",
    "with requests.Session() as sess:\n",
    "    sess.headers.update({\"User-Agent\": \"Mozilla/5.0 (Windows NT 10.0; Win64; x64)\"})\n",
    "    for y in range(2020, LATEST_Y+1 ):\n",
    "        mmax = 12 if y < LATEST_Y else LATEST_M\n",
    "        for m in range(1, mmax+1):\n",
    "            dfm = fetch_month(y, m, sess)\n",
    "            if dfm is None:\n",
    "                print(f\"[{y}-{m:02d}] no data\")\n",
    "            else:\n",
    "                print(f\"[{y}-{m:02d}] rows: {len(dfm)}\")\n",
    "                all_frames.append(dfm)\n",
    "            time.sleep(0.6)"
   ]
  },
  {
   "cell_type": "code",
   "execution_count": 11,
   "id": "50388dcb-5676-4e91-a6a6-69bd37a0eae1",
   "metadata": {},
   "outputs": [],
   "source": [
    "if not all_frames:\n",
    "    raise SystemExit(\"No data fetched.\")"
   ]
  },
  {
   "cell_type": "code",
   "execution_count": 12,
   "id": "93cb36ce-bb11-470d-8ecb-89eb877d3d14",
   "metadata": {},
   "outputs": [],
   "source": [
    "full = pd.concat(all_frames, ignore_index=True)\n",
    "full = full.drop_duplicates(subset=[\"Year\",\"Month\",\"Brand\"], keep=\"last\") \n",
    "full = full.sort_values([\"Year\",\"Month\",\"Brand\"], ignore_index=True)\n",
    "full.to_csv(\"webbsite_hk_private_cars_monthly_2020_2025.csv\", index=False)"
   ]
  },
  {
   "cell_type": "code",
   "execution_count": 13,
   "id": "8f07860d-47f7-4ddf-aad2-4bc9b8e9af4d",
   "metadata": {},
   "outputs": [],
   "source": [
    "full[\"Brand\"] = (full[\"Brand\"].astype(str).str.strip()\n",
    "                               .str.upper()\n",
    "                               .str.replace(r\"\\s+\", \" \", regex=True))"
   ]
  },
  {
   "cell_type": "code",
   "execution_count": 14,
   "id": "dcd702cc-dea1-43fa-8e4d-370e0d06e0db",
   "metadata": {},
   "outputs": [],
   "source": [
    "ordered = [\"Year\",\"Month\",\"Brand\",\"Petrol\",\"Electric\",\"Hybrid\",\"Diesel\",\"LPG\",\"Others\",\"Total\"]\n",
    "full = full[[c for c in ordered if c in full.columns]]"
   ]
  },
  {
   "cell_type": "code",
   "execution_count": 15,
   "id": "45d28e34-cc28-4dc2-8b21-7df78dd7a6c2",
   "metadata": {},
   "outputs": [
    {
     "name": "stdout",
     "output_type": "stream",
     "text": [
      "Saved: website_hk_private_cars_by_month.csv\n"
     ]
    }
   ],
   "source": [
    "full.to_csv(out_all_csv, index=False)\n",
    "print(\"Saved:\", out_all_csv)"
   ]
  },
  {
   "cell_type": "code",
   "execution_count": 16,
   "id": "7523bdb8-33fd-42ec-b4dc-baf226193f6c",
   "metadata": {},
   "outputs": [],
   "source": [
    "monthly = (full.groupby([\"Year\",\"Month\"], as_index=False)\n",
    "                .agg({c:\"sum\" for c in full.columns if c not in [\"Year\",\"Month\",\"Brand\"]}))"
   ]
  },
  {
   "cell_type": "code",
   "execution_count": 17,
   "id": "b9da5c1b-74e7-4c8b-9146-26c378eb7202",
   "metadata": {},
   "outputs": [],
   "source": [
    "if {\"Electric\",\"Total\"} <= set(monthly.columns):\n",
    "    monthly[\"EV_share_%\"] = monthly[\"Electric\"]/monthly[\"Total\"]*100"
   ]
  },
  {
   "cell_type": "code",
   "execution_count": 18,
   "id": "b23b35dd-deea-4b03-a0b7-94826b51edde",
   "metadata": {},
   "outputs": [
    {
     "name": "stdout",
     "output_type": "stream",
     "text": [
      "Saved: webbsite_hk_private_cars_monthly_SUM_2020_2025.csv\n"
     ]
    }
   ],
   "source": [
    "monthly.to_csv(\"webbsite_hk_private_cars_monthly_SUM_2020_2025.csv\", index=False)\n",
    "print(\"Saved: webbsite_hk_private_cars_monthly_SUM_2020_2025.csv\")"
   ]
  }
 ],
 "metadata": {
  "kernelspec": {
   "display_name": "Python 3 (ipykernel)",
   "language": "python",
   "name": "python3"
  },
  "language_info": {
   "codemirror_mode": {
    "name": "ipython",
    "version": 3
   },
   "file_extension": ".py",
   "mimetype": "text/x-python",
   "name": "python",
   "nbconvert_exporter": "python",
   "pygments_lexer": "ipython3",
   "version": "3.12.2"
  }
 },
 "nbformat": 4,
 "nbformat_minor": 5
}
